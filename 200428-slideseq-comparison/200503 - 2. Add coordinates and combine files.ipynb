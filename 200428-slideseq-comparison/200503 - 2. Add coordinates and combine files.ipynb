{
 "cells": [
  {
   "cell_type": "code",
   "execution_count": 1,
   "metadata": {},
   "outputs": [
    {
     "name": "stdout",
     "output_type": "stream",
     "text": [
      "Populating the interactive namespace from numpy and matplotlib\n"
     ]
    },
    {
     "name": "stderr",
     "output_type": "stream",
     "text": [
      "C:\\Users\\vale\\Anaconda3\\lib\\site-packages\\anndata\\_core\\anndata.py:21: FutureWarning: pandas.core.index is deprecated and will be removed in a future version.  The public classes are available in the top-level namespace.\n",
      "  from pandas.core.index import RangeIndex\n"
     ]
    }
   ],
   "source": [
    "%pylab inline\n",
    "%config InlineBackend.figure_format = 'retina'\n",
    "\n",
    "from glob import glob\n",
    "\n",
    "import pandas as pd\n",
    "import plotnine as p\n",
    "from tqdm import tqdm\n",
    "import anndata"
   ]
  },
  {
   "cell_type": "code",
   "execution_count": 12,
   "metadata": {},
   "outputs": [
    {
     "name": "stdout",
     "output_type": "stream",
     "text": [
      " Volume in drive C is NVMe Drive\n",
      " Volume Serial Number is 9ACC-A435\n",
      "\n",
      " Directory of C:\\Users\\vale\\Google Drive\\Analysis\\200428-slideseq-comparison\n",
      "\n",
      "03/05/2020  14:42    <DIR>          .\n",
      "03/05/2020  14:42    <DIR>          ..\n",
      "03/05/2020  14:40    <DIR>          .ipynb_checkpoints\n",
      "29/04/2020  09:05            18,072 1. Convert data to H5AD.ipynb\n",
      "03/05/2020  14:42           410,343 200503 - Add coordinates and combine files.ipynb\n",
      "28/04/2020  22:54    <DIR>          dask-worker-space\n",
      "29/04/2020  01:17        91,299,083 Puck_190921_19.digital_expression.h5ad\n",
      "28/04/2020  20:25        20,177,479 Puck_190921_19.digital_expression.txt.gz\n",
      "28/04/2020  20:25         1,617,528 Puck_190921_19_bead_locations.csv\n",
      "29/04/2020  01:17        32,059,023 Puck_190921_21.digital_expression.h5ad\n",
      "28/04/2020  20:25         8,123,377 Puck_190921_21.digital_expression.txt.gz\n",
      "28/04/2020  20:25           576,132 Puck_190921_21_bead_locations.csv\n",
      "29/04/2020  01:18       155,684,905 Puck_190926_01.digital_expression.h5ad\n",
      "28/04/2020  20:25        34,003,708 Puck_190926_01.digital_expression.txt.gz\n",
      "28/04/2020  20:25         1,329,477 Puck_190926_01_bead_locations.csv\n",
      "29/04/2020  01:19       177,809,031 Puck_190926_02.digital_expression.h5ad\n",
      "28/04/2020  20:25        39,291,447 Puck_190926_02.digital_expression.txt.gz\n",
      "28/04/2020  20:25         1,598,007 Puck_190926_02_bead_locations.csv\n",
      "29/04/2020  01:19       189,934,929 Puck_190926_03.digital_expression.h5ad\n",
      "28/04/2020  20:25        40,168,950 Puck_190926_03.digital_expression.txt.gz\n",
      "28/04/2020  20:25         1,477,177 Puck_190926_03_bead_locations.csv\n",
      "29/04/2020  01:20       176,582,863 Puck_190926_06.digital_expression.h5ad\n",
      "28/04/2020  20:26        38,682,009 Puck_190926_06.digital_expression.txt.gz\n",
      "28/04/2020  20:26         1,603,162 Puck_190926_06_bead_locations.csv\n",
      "29/04/2020  01:21        21,215,348 Puck_191007_07.digital_expression.h5ad\n",
      "28/04/2020  20:26         6,737,000 Puck_191007_07.digital_expression.txt.gz\n",
      "28/04/2020  20:26         1,829,790 Puck_191007_07_bead_locations.csv\n",
      "29/04/2020  01:21        95,498,871 Puck_191204_01.digital_expression.h5ad\n",
      "28/04/2020  20:26        20,372,808 Puck_191204_01.digital_expression.txt.gz\n",
      "28/04/2020  20:26           978,492 Puck_191204_01_bead_locations.csv\n",
      "29/04/2020  01:21       182,935,512 Puck_200115_08.digital_expression.h5ad\n",
      "28/04/2020  20:26        37,344,883 Puck_200115_08.digital_expression.txt.gz\n",
      "28/04/2020  20:26         1,522,142 Puck_200115_08_bead_locations.csv\n",
      "              29 File(s)  1,380,881,548 bytes\n",
      "               4 Dir(s)  276,571,553,792 bytes free\n"
     ]
    }
   ],
   "source": [
    "ls"
   ]
  },
  {
   "cell_type": "code",
   "execution_count": 25,
   "metadata": {},
   "outputs": [
    {
     "name": "stderr",
     "output_type": "stream",
     "text": [
      "100%|████████████████████████████████████████████████████████████████████████████████████| 9/9 [00:01<00:00,  5.63it/s]\n"
     ]
    }
   ],
   "source": [
    "adatas = []\n",
    "\n",
    "\n",
    "for fname in tqdm(glob('Puck_*.h5ad')):\n",
    "    adata = anndata.read(fname)\n",
    "    obs = pd.read_csv(fname.replace('.digital_expression.h5ad', '_bead_locations.csv'), index_col=0)\n",
    "\n",
    "    adata.obs['xcoord'] = obs['xcoord']\n",
    "    adata.obs['ycoord'] = obs['ycoord']\n",
    "\n",
    "    adatas.append(adata)"
   ]
  },
  {
   "cell_type": "code",
   "execution_count": 31,
   "metadata": {},
   "outputs": [],
   "source": [
    "all_data = adatas[0].concatenate(adatas[1:], join='outer')"
   ]
  },
  {
   "cell_type": "code",
   "execution_count": 34,
   "metadata": {},
   "outputs": [
    {
     "data": {
      "text/plain": [
       "AnnData object with n_obs × n_vars = 389037 × 27015 \n",
       "    obs: 'batch', 'filename', 'xcoord', 'ycoord'"
      ]
     },
     "execution_count": 34,
     "metadata": {},
     "output_type": "execute_result"
    }
   ],
   "source": [
    "all_data"
   ]
  },
  {
   "cell_type": "code",
   "execution_count": 36,
   "metadata": {},
   "outputs": [
    {
     "data": {
      "text/html": [
       "<div>\n",
       "<style scoped>\n",
       "    .dataframe tbody tr th:only-of-type {\n",
       "        vertical-align: middle;\n",
       "    }\n",
       "\n",
       "    .dataframe tbody tr th {\n",
       "        vertical-align: top;\n",
       "    }\n",
       "\n",
       "    .dataframe thead th {\n",
       "        text-align: right;\n",
       "    }\n",
       "</style>\n",
       "<table border=\"1\" class=\"dataframe\">\n",
       "  <thead>\n",
       "    <tr style=\"text-align: right;\">\n",
       "      <th></th>\n",
       "      <th>batch</th>\n",
       "      <th>filename</th>\n",
       "      <th>xcoord</th>\n",
       "      <th>ycoord</th>\n",
       "    </tr>\n",
       "  </thead>\n",
       "  <tbody>\n",
       "    <tr>\n",
       "      <th>ACGATCCAAAAACN-0</th>\n",
       "      <td>0</td>\n",
       "      <td>Puck_190921_19.digital_expression.txt.gz</td>\n",
       "      <td>4384.141026</td>\n",
       "      <td>2775.358974</td>\n",
       "    </tr>\n",
       "    <tr>\n",
       "      <th>CGGTCCTACCCCCT-0</th>\n",
       "      <td>0</td>\n",
       "      <td>Puck_190921_19.digital_expression.txt.gz</td>\n",
       "      <td>3940.031646</td>\n",
       "      <td>5275.734177</td>\n",
       "    </tr>\n",
       "    <tr>\n",
       "      <th>ACCTTAGACCCCAA-0</th>\n",
       "      <td>0</td>\n",
       "      <td>Puck_190921_19.digital_expression.txt.gz</td>\n",
       "      <td>3186.365079</td>\n",
       "      <td>774.920635</td>\n",
       "    </tr>\n",
       "    <tr>\n",
       "      <th>TCCTCCACTTTTTT-0</th>\n",
       "      <td>0</td>\n",
       "      <td>Puck_190921_19.digital_expression.txt.gz</td>\n",
       "      <td>2043.488889</td>\n",
       "      <td>4715.733333</td>\n",
       "    </tr>\n",
       "    <tr>\n",
       "      <th>ACCCGCTACCCCCT-0</th>\n",
       "      <td>0</td>\n",
       "      <td>Puck_190921_19.digital_expression.txt.gz</td>\n",
       "      <td>3187.634615</td>\n",
       "      <td>770.711538</td>\n",
       "    </tr>\n",
       "    <tr>\n",
       "      <th>...</th>\n",
       "      <td>...</td>\n",
       "      <td>...</td>\n",
       "      <td>...</td>\n",
       "      <td>...</td>\n",
       "    </tr>\n",
       "    <tr>\n",
       "      <th>ACAATACAGATACT-8</th>\n",
       "      <td>8</td>\n",
       "      <td>Puck_200115_08.digital_expression.txt.gz</td>\n",
       "      <td>3025.500000</td>\n",
       "      <td>5516.000000</td>\n",
       "    </tr>\n",
       "    <tr>\n",
       "      <th>GGTCAGGTTAACGT-8</th>\n",
       "      <td>8</td>\n",
       "      <td>Puck_200115_08.digital_expression.txt.gz</td>\n",
       "      <td>3069.700000</td>\n",
       "      <td>3211.900000</td>\n",
       "    </tr>\n",
       "    <tr>\n",
       "      <th>CATTATGGAATTCT-8</th>\n",
       "      <td>8</td>\n",
       "      <td>Puck_200115_08.digital_expression.txt.gz</td>\n",
       "      <td>3507.100000</td>\n",
       "      <td>2811.000000</td>\n",
       "    </tr>\n",
       "    <tr>\n",
       "      <th>GACTTTTCTTAAAG-8</th>\n",
       "      <td>8</td>\n",
       "      <td>Puck_200115_08.digital_expression.txt.gz</td>\n",
       "      <td>2155.000000</td>\n",
       "      <td>1264.300000</td>\n",
       "    </tr>\n",
       "    <tr>\n",
       "      <th>GTCAATAAAGGGCG-8</th>\n",
       "      <td>8</td>\n",
       "      <td>Puck_200115_08.digital_expression.txt.gz</td>\n",
       "      <td>4819.700000</td>\n",
       "      <td>2476.700000</td>\n",
       "    </tr>\n",
       "  </tbody>\n",
       "</table>\n",
       "<p>389037 rows × 4 columns</p>\n",
       "</div>"
      ],
      "text/plain": [
       "                 batch                                  filename       xcoord  \\\n",
       "ACGATCCAAAAACN-0     0  Puck_190921_19.digital_expression.txt.gz  4384.141026   \n",
       "CGGTCCTACCCCCT-0     0  Puck_190921_19.digital_expression.txt.gz  3940.031646   \n",
       "ACCTTAGACCCCAA-0     0  Puck_190921_19.digital_expression.txt.gz  3186.365079   \n",
       "TCCTCCACTTTTTT-0     0  Puck_190921_19.digital_expression.txt.gz  2043.488889   \n",
       "ACCCGCTACCCCCT-0     0  Puck_190921_19.digital_expression.txt.gz  3187.634615   \n",
       "...                ...                                       ...          ...   \n",
       "ACAATACAGATACT-8     8  Puck_200115_08.digital_expression.txt.gz  3025.500000   \n",
       "GGTCAGGTTAACGT-8     8  Puck_200115_08.digital_expression.txt.gz  3069.700000   \n",
       "CATTATGGAATTCT-8     8  Puck_200115_08.digital_expression.txt.gz  3507.100000   \n",
       "GACTTTTCTTAAAG-8     8  Puck_200115_08.digital_expression.txt.gz  2155.000000   \n",
       "GTCAATAAAGGGCG-8     8  Puck_200115_08.digital_expression.txt.gz  4819.700000   \n",
       "\n",
       "                       ycoord  \n",
       "ACGATCCAAAAACN-0  2775.358974  \n",
       "CGGTCCTACCCCCT-0  5275.734177  \n",
       "ACCTTAGACCCCAA-0   774.920635  \n",
       "TCCTCCACTTTTTT-0  4715.733333  \n",
       "ACCCGCTACCCCCT-0   770.711538  \n",
       "...                       ...  \n",
       "ACAATACAGATACT-8  5516.000000  \n",
       "GGTCAGGTTAACGT-8  3211.900000  \n",
       "CATTATGGAATTCT-8  2811.000000  \n",
       "GACTTTTCTTAAAG-8  1264.300000  \n",
       "GTCAATAAAGGGCG-8  2476.700000  \n",
       "\n",
       "[389037 rows x 4 columns]"
      ]
     },
     "execution_count": 36,
     "metadata": {},
     "output_type": "execute_result"
    }
   ],
   "source": [
    "all_data.obs"
   ]
  },
  {
   "cell_type": "code",
   "execution_count": 39,
   "metadata": {},
   "outputs": [],
   "source": [
    "tissue = {\n",
    "    'Puck_190921_19': 'mouse E15 brain',\n",
    "    'Puck_190921_21': 'mouse hippocampus',\n",
    "    'Puck_190926_01': 'unknown',\n",
    "    'Puck_190926_02': 'unknown',\n",
    "    'Puck_190926_03': 'mouse embryo Slide-seqV2',\n",
    "    'Puck_190926_06': 'unknown',\n",
    "    'Puck_191007_07': 'unknown',\n",
    "    'Puck_191204_01': 'mouse hippocampus',\n",
    "    'Puck_200115_08': 'mouse hippocampus'\n",
    "}"
   ]
  },
  {
   "cell_type": "code",
   "execution_count": 41,
   "metadata": {},
   "outputs": [],
   "source": [
    "all_data.obs['tissue'] = all_data.obs['filename'].str.split('.').str.get(0).map(tissue)"
   ]
  },
  {
   "cell_type": "code",
   "execution_count": null,
   "metadata": {},
   "outputs": [],
   "source": []
  },
  {
   "cell_type": "code",
   "execution_count": 42,
   "metadata": {},
   "outputs": [
    {
     "data": {
      "text/plain": [
       "AnnData object with n_obs × n_vars = 389037 × 27015 \n",
       "    obs: 'batch', 'filename', 'xcoord', 'ycoord', 'tissue'"
      ]
     },
     "execution_count": 42,
     "metadata": {},
     "output_type": "execute_result"
    }
   ],
   "source": [
    "all_data"
   ]
  },
  {
   "cell_type": "code",
   "execution_count": null,
   "metadata": {},
   "outputs": [],
   "source": []
  },
  {
   "cell_type": "code",
   "execution_count": 43,
   "metadata": {},
   "outputs": [
    {
     "name": "stderr",
     "output_type": "stream",
     "text": [
      "... storing 'filename' as categorical\n",
      "... storing 'tissue' as categorical\n"
     ]
    }
   ],
   "source": [
    "all_data.write('stickels_et_al_2020_slide_seqV2.h5ad')"
   ]
  },
  {
   "cell_type": "code",
   "execution_count": null,
   "metadata": {},
   "outputs": [],
   "source": []
  },
  {
   "cell_type": "code",
   "execution_count": null,
   "metadata": {},
   "outputs": [],
   "source": []
  },
  {
   "cell_type": "code",
   "execution_count": null,
   "metadata": {},
   "outputs": [],
   "source": []
  },
  {
   "cell_type": "code",
   "execution_count": null,
   "metadata": {},
   "outputs": [],
   "source": []
  },
  {
   "cell_type": "code",
   "execution_count": null,
   "metadata": {},
   "outputs": [],
   "source": []
  },
  {
   "cell_type": "code",
   "execution_count": null,
   "metadata": {},
   "outputs": [],
   "source": []
  },
  {
   "cell_type": "code",
   "execution_count": null,
   "metadata": {},
   "outputs": [],
   "source": []
  },
  {
   "cell_type": "code",
   "execution_count": null,
   "metadata": {},
   "outputs": [],
   "source": []
  },
  {
   "cell_type": "code",
   "execution_count": null,
   "metadata": {},
   "outputs": [],
   "source": []
  },
  {
   "cell_type": "code",
   "execution_count": null,
   "metadata": {},
   "outputs": [],
   "source": []
  },
  {
   "cell_type": "code",
   "execution_count": null,
   "metadata": {},
   "outputs": [],
   "source": []
  },
  {
   "cell_type": "code",
   "execution_count": null,
   "metadata": {},
   "outputs": [],
   "source": []
  },
  {
   "cell_type": "code",
   "execution_count": null,
   "metadata": {},
   "outputs": [],
   "source": []
  },
  {
   "cell_type": "code",
   "execution_count": null,
   "metadata": {},
   "outputs": [],
   "source": []
  },
  {
   "cell_type": "code",
   "execution_count": null,
   "metadata": {},
   "outputs": [],
   "source": []
  },
  {
   "cell_type": "code",
   "execution_count": null,
   "metadata": {},
   "outputs": [],
   "source": []
  },
  {
   "cell_type": "code",
   "execution_count": null,
   "metadata": {},
   "outputs": [],
   "source": []
  }
 ],
 "metadata": {
  "kernelspec": {
   "display_name": "Python 3",
   "language": "python",
   "name": "python3"
  },
  "language_info": {
   "codemirror_mode": {
    "name": "ipython",
    "version": 3
   },
   "file_extension": ".py",
   "mimetype": "text/x-python",
   "name": "python",
   "nbconvert_exporter": "python",
   "pygments_lexer": "ipython3",
   "version": "3.7.4"
  }
 },
 "nbformat": 4,
 "nbformat_minor": 2
}
