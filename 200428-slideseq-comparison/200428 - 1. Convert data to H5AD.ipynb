{
 "cells": [
  {
   "cell_type": "code",
   "execution_count": 1,
   "metadata": {},
   "outputs": [
    {
     "name": "stdout",
     "output_type": "stream",
     "text": [
      "Populating the interactive namespace from numpy and matplotlib\n"
     ]
    }
   ],
   "source": [
    "%pylab inline\n",
    "%config InlineBackend.figure_format = 'retina'\n",
    "\n",
    "from glob import glob\n",
    "\n",
    "import pandas as pd\n",
    "import plotnine as p\n",
    "from tqdm import tqdm"
   ]
  },
  {
   "cell_type": "code",
   "execution_count": null,
   "metadata": {},
   "outputs": [],
   "source": []
  },
  {
   "cell_type": "code",
   "execution_count": null,
   "metadata": {},
   "outputs": [],
   "source": []
  },
  {
   "cell_type": "code",
   "execution_count": null,
   "metadata": {},
   "outputs": [],
   "source": []
  },
  {
   "cell_type": "code",
   "execution_count": 15,
   "metadata": {
    "scrolled": false
   },
   "outputs": [
    {
     "name": "stderr",
     "output_type": "stream",
     "text": [
      "\n",
      "  0%|                                                                                            | 0/9 [00:00<?, ?it/s]"
     ]
    },
    {
     "name": "stdout",
     "output_type": "stream",
     "text": [
      "Reading Puck_190921_19.digital_expression.txt.gz\n"
     ]
    },
    {
     "name": "stderr",
     "output_type": "stream",
     "text": [
      "\n",
      " 11%|█████████                                                                        | 1/9 [10:16<1:22:11, 616.49s/it]"
     ]
    },
    {
     "name": "stdout",
     "output_type": "stream",
     "text": [
      "Reading Puck_190921_21.digital_expression.txt.gz\n"
     ]
    },
    {
     "name": "stderr",
     "output_type": "stream",
     "text": [
      "\n",
      " 22%|██████████████████▍                                                                | 2/9 [13:01<56:06, 480.97s/it]"
     ]
    },
    {
     "name": "stdout",
     "output_type": "stream",
     "text": [
      "Reading Puck_190926_01.digital_expression.txt.gz\n"
     ]
    },
    {
     "name": "stderr",
     "output_type": "stream",
     "text": [
      "\n",
      " 33%|███████████████████████████▋                                                       | 3/9 [27:13<59:13, 592.26s/it]"
     ]
    },
    {
     "name": "stdout",
     "output_type": "stream",
     "text": [
      "Reading Puck_190926_02.digital_expression.txt.gz\n"
     ]
    },
    {
     "name": "stderr",
     "output_type": "stream",
     "text": [
      "\n",
      " 44%|████████████████████████████████████                                             | 4/9 [45:48<1:02:26, 749.22s/it]"
     ]
    },
    {
     "name": "stdout",
     "output_type": "stream",
     "text": [
      "Reading Puck_190926_03.digital_expression.txt.gz\n"
     ]
    },
    {
     "name": "stderr",
     "output_type": "stream",
     "text": [
      "\n",
      " 56%|█████████████████████████████████████████████                                    | 5/9 [1:04:03<56:51, 852.85s/it]"
     ]
    },
    {
     "name": "stdout",
     "output_type": "stream",
     "text": [
      "Reading Puck_190926_06.digital_expression.txt.gz\n"
     ]
    },
    {
     "name": "stderr",
     "output_type": "stream",
     "text": [
      "\n",
      " 67%|██████████████████████████████████████████████████████                           | 6/9 [1:24:41<48:24, 968.32s/it]"
     ]
    },
    {
     "name": "stdout",
     "output_type": "stream",
     "text": [
      "Reading Puck_191007_07.digital_expression.txt.gz\n"
     ]
    },
    {
     "name": "stderr",
     "output_type": "stream",
     "text": [
      "\n",
      " 78%|███████████████████████████████████████████████████████████████                  | 7/9 [1:35:53<29:18, 879.48s/it]"
     ]
    },
    {
     "name": "stdout",
     "output_type": "stream",
     "text": [
      "Reading Puck_191204_01.digital_expression.txt.gz\n"
     ]
    },
    {
     "name": "stderr",
     "output_type": "stream",
     "text": [
      "\n",
      " 89%|████████████████████████████████████████████████████████████████████████         | 8/9 [1:47:29<13:44, 824.52s/it]"
     ]
    },
    {
     "name": "stdout",
     "output_type": "stream",
     "text": [
      "Reading Puck_200115_08.digital_expression.txt.gz\n"
     ]
    },
    {
     "name": "stderr",
     "output_type": "stream",
     "text": [
      "\n",
      "100%|█████████████████████████████████████████████████████████████████████████████████| 9/9 [2:07:18<00:00, 848.76s/it]\n"
     ]
    }
   ],
   "source": [
    "expr_matrices = {}\n",
    "for fname in tqdm(glob('Puck_*.digital_expression.txt.gz')):\n",
    "    print(f'Reading {fname}')\n",
    "    expr_matrices[fname] = pd.read_csv(fname, sep='\\t', comment='#', index_col=0).T"
   ]
  },
  {
   "cell_type": "code",
   "execution_count": null,
   "metadata": {},
   "outputs": [],
   "source": []
  },
  {
   "cell_type": "code",
   "execution_count": null,
   "metadata": {},
   "outputs": [],
   "source": []
  },
  {
   "cell_type": "code",
   "execution_count": 16,
   "metadata": {},
   "outputs": [
    {
     "data": {
      "text/plain": [
       "dict_keys(['Puck_190921_19.digital_expression.txt.gz', 'Puck_190921_21.digital_expression.txt.gz', 'Puck_190926_01.digital_expression.txt.gz', 'Puck_190926_02.digital_expression.txt.gz', 'Puck_190926_03.digital_expression.txt.gz', 'Puck_190926_06.digital_expression.txt.gz', 'Puck_191007_07.digital_expression.txt.gz', 'Puck_191204_01.digital_expression.txt.gz', 'Puck_200115_08.digital_expression.txt.gz'])"
      ]
     },
     "execution_count": 16,
     "metadata": {},
     "output_type": "execute_result"
    }
   ],
   "source": [
    "expr_matrices.keys()"
   ]
  },
  {
   "cell_type": "code",
   "execution_count": 17,
   "metadata": {},
   "outputs": [
    {
     "name": "stderr",
     "output_type": "stream",
     "text": [
      "C:\\Users\\vale\\Anaconda3\\lib\\site-packages\\anndata\\_core\\anndata.py:21: FutureWarning: pandas.core.index is deprecated and will be removed in a future version.  The public classes are available in the top-level namespace.\n",
      "  from pandas.core.index import RangeIndex\n"
     ]
    }
   ],
   "source": [
    "import anndata\n",
    "from scipy import sparse"
   ]
  },
  {
   "cell_type": "code",
   "execution_count": null,
   "metadata": {},
   "outputs": [],
   "source": []
  },
  {
   "cell_type": "code",
   "execution_count": null,
   "metadata": {},
   "outputs": [],
   "source": []
  },
  {
   "cell_type": "code",
   "execution_count": 18,
   "metadata": {},
   "outputs": [
    {
     "name": "stderr",
     "output_type": "stream",
     "text": [
      "\n",
      "  0%|                                                                                            | 0/9 [00:00<?, ?it/s]"
     ]
    },
    {
     "name": "stdout",
     "output_type": "stream",
     "text": [
      "(33611, 22683)\n"
     ]
    },
    {
     "name": "stderr",
     "output_type": "stream",
     "text": [
      "... storing 'filename' as categorical\n",
      "\n",
      " 11%|█████████▎                                                                          | 1/9 [00:10<01:24, 10.60s/it]"
     ]
    },
    {
     "name": "stdout",
     "output_type": "stream",
     "text": [
      "(20143, 19653)\n"
     ]
    },
    {
     "name": "stderr",
     "output_type": "stream",
     "text": [
      "... storing 'filename' as categorical\n",
      "\n",
      " 22%|██████████████████▋                                                                 | 2/9 [00:16<01:03,  9.11s/it]"
     ]
    },
    {
     "name": "stdout",
     "output_type": "stream",
     "text": [
      "(46473, 23055)\n"
     ]
    },
    {
     "name": "stderr",
     "output_type": "stream",
     "text": [
      "... storing 'filename' as categorical\n",
      "\n",
      " 33%|████████████████████████████                                                        | 3/9 [00:36<01:14, 12.36s/it]"
     ]
    },
    {
     "name": "stdout",
     "output_type": "stream",
     "text": [
      "(55863, 23142)\n"
     ]
    },
    {
     "name": "stderr",
     "output_type": "stream",
     "text": [
      "... storing 'filename' as categorical\n",
      "\n",
      " 44%|█████████████████████████████████████▎                                              | 4/9 [01:25<01:56, 23.38s/it]"
     ]
    },
    {
     "name": "stdout",
     "output_type": "stream",
     "text": [
      "(51649, 23124)\n"
     ]
    },
    {
     "name": "stderr",
     "output_type": "stream",
     "text": [
      "... storing 'filename' as categorical\n",
      "\n",
      " 56%|██████████████████████████████████████████████▋                                     | 5/9 [02:12<02:02, 30.51s/it]"
     ]
    },
    {
     "name": "stdout",
     "output_type": "stream",
     "text": [
      "(56047, 23117)\n"
     ]
    },
    {
     "name": "stderr",
     "output_type": "stream",
     "text": [
      "... storing 'filename' as categorical\n",
      "\n",
      " 67%|████████████████████████████████████████████████████████                            | 6/9 [03:11<01:57, 39.18s/it]"
     ]
    },
    {
     "name": "stdout",
     "output_type": "stream",
     "text": [
      "(37844, 19600)\n"
     ]
    },
    {
     "name": "stderr",
     "output_type": "stream",
     "text": [
      "... storing 'filename' as categorical\n",
      "\n",
      " 78%|█████████████████████████████████████████████████████████████████▎                  | 7/9 [03:29<01:05, 32.85s/it]"
     ]
    },
    {
     "name": "stdout",
     "output_type": "stream",
     "text": [
      "(34199, 22457)\n"
     ]
    },
    {
     "name": "stderr",
     "output_type": "stream",
     "text": [
      "... storing 'filename' as categorical\n",
      "\n",
      " 89%|██████████████████████████████████████████████████████████████████████████▋         | 8/9 [03:35<00:24, 24.69s/it]"
     ]
    },
    {
     "name": "stdout",
     "output_type": "stream",
     "text": [
      "(53208, 23264)\n"
     ]
    },
    {
     "name": "stderr",
     "output_type": "stream",
     "text": [
      "... storing 'filename' as categorical\n",
      "\n",
      "100%|████████████████████████████████████████████████████████████████████████████████████| 9/9 [03:45<00:00, 25.10s/it]\n"
     ]
    }
   ],
   "source": [
    "for fname in tqdm(expr_matrices):\n",
    "    obs = pd.DataFrame(index=expr_matrices[fname].index)\n",
    "    var = pd.DataFrame(index=expr_matrices[fname].columns)\n",
    "    X = sparse.csc_matrix(expr_matrices[fname].values)\n",
    "    print(X.shape)\n",
    "    adata = anndata.AnnData(X=X, obs=obs, var=var)\n",
    "    adata.obs['filename'] = fname\n",
    "    adata.write(fname.replace('.txt.gz', '.h5ad'))"
   ]
  },
  {
   "cell_type": "code",
   "execution_count": 19,
   "metadata": {},
   "outputs": [
    {
     "name": "stdout",
     "output_type": "stream",
     "text": [
      " Volume in drive C is NVMe Drive\n",
      " Volume Serial Number is 9ACC-A435\n",
      "\n",
      " Directory of C:\\Users\\vale\\Google Drive\\Analysis\\200428-slideseq-comparison\n",
      "\n",
      "29/04/2020  01:19    <DIR>          .\n",
      "29/04/2020  01:19    <DIR>          ..\n",
      "28/04/2020  20:48    <DIR>          .ipynb_checkpoints\n",
      "29/04/2020  01:19            27,765 Combine data to H5AD.ipynb\n",
      "28/04/2020  22:54    <DIR>          dask-worker-space\n",
      "29/04/2020  01:17        91,299,083 Puck_190921_19.digital_expression.h5ad\n",
      "28/04/2020  20:25        20,177,479 Puck_190921_19.digital_expression.txt.gz\n",
      "28/04/2020  20:25         1,617,528 Puck_190921_19_bead_locations.csv\n",
      "29/04/2020  01:17        32,059,023 Puck_190921_21.digital_expression.h5ad\n",
      "28/04/2020  20:25         8,123,377 Puck_190921_21.digital_expression.txt.gz\n",
      "28/04/2020  20:25           576,132 Puck_190921_21_bead_locations.csv\n",
      "29/04/2020  01:18       155,684,905 Puck_190926_01.digital_expression.h5ad\n",
      "28/04/2020  20:25        34,003,708 Puck_190926_01.digital_expression.txt.gz\n",
      "28/04/2020  20:25         1,329,477 Puck_190926_01_bead_locations.csv\n",
      "29/04/2020  01:19       177,809,031 Puck_190926_02.digital_expression.h5ad\n",
      "28/04/2020  20:25        39,291,447 Puck_190926_02.digital_expression.txt.gz\n",
      "28/04/2020  20:25         1,598,007 Puck_190926_02_bead_locations.csv\n",
      "29/04/2020  01:19       189,934,929 Puck_190926_03.digital_expression.h5ad\n",
      "28/04/2020  20:25        40,168,950 Puck_190926_03.digital_expression.txt.gz\n",
      "28/04/2020  20:25         1,477,177 Puck_190926_03_bead_locations.csv\n",
      "29/04/2020  01:20       176,582,863 Puck_190926_06.digital_expression.h5ad\n",
      "28/04/2020  20:26        38,682,009 Puck_190926_06.digital_expression.txt.gz\n",
      "28/04/2020  20:26         1,603,162 Puck_190926_06_bead_locations.csv\n",
      "29/04/2020  01:21        21,215,348 Puck_191007_07.digital_expression.h5ad\n",
      "28/04/2020  20:26         6,737,000 Puck_191007_07.digital_expression.txt.gz\n",
      "28/04/2020  20:26         1,829,790 Puck_191007_07_bead_locations.csv\n",
      "29/04/2020  01:21        95,498,871 Puck_191204_01.digital_expression.h5ad\n",
      "28/04/2020  20:26        20,372,808 Puck_191204_01.digital_expression.txt.gz\n",
      "28/04/2020  20:26           978,492 Puck_191204_01_bead_locations.csv\n",
      "29/04/2020  01:21       182,935,512 Puck_200115_08.digital_expression.h5ad\n",
      "28/04/2020  20:26        37,344,883 Puck_200115_08.digital_expression.txt.gz\n",
      "28/04/2020  20:26         1,522,142 Puck_200115_08_bead_locations.csv\n",
      "28/04/2020  22:42           404,679 Untitled.ipynb\n",
      "              29 File(s)  1,380,885,577 bytes\n",
      "               4 Dir(s)  234,078,048,256 bytes free\n"
     ]
    }
   ],
   "source": [
    "ls"
   ]
  },
  {
   "cell_type": "code",
   "execution_count": null,
   "metadata": {},
   "outputs": [],
   "source": []
  },
  {
   "cell_type": "code",
   "execution_count": null,
   "metadata": {},
   "outputs": [],
   "source": []
  },
  {
   "cell_type": "code",
   "execution_count": null,
   "metadata": {},
   "outputs": [],
   "source": []
  },
  {
   "cell_type": "code",
   "execution_count": null,
   "metadata": {},
   "outputs": [],
   "source": []
  },
  {
   "cell_type": "code",
   "execution_count": null,
   "metadata": {},
   "outputs": [],
   "source": []
  },
  {
   "cell_type": "code",
   "execution_count": null,
   "metadata": {},
   "outputs": [],
   "source": []
  },
  {
   "cell_type": "code",
   "execution_count": null,
   "metadata": {},
   "outputs": [],
   "source": []
  },
  {
   "cell_type": "code",
   "execution_count": null,
   "metadata": {},
   "outputs": [],
   "source": []
  },
  {
   "cell_type": "code",
   "execution_count": null,
   "metadata": {},
   "outputs": [],
   "source": []
  },
  {
   "cell_type": "code",
   "execution_count": null,
   "metadata": {},
   "outputs": [],
   "source": []
  },
  {
   "cell_type": "code",
   "execution_count": null,
   "metadata": {},
   "outputs": [],
   "source": []
  },
  {
   "cell_type": "code",
   "execution_count": null,
   "metadata": {},
   "outputs": [],
   "source": []
  },
  {
   "cell_type": "code",
   "execution_count": null,
   "metadata": {},
   "outputs": [],
   "source": []
  },
  {
   "cell_type": "code",
   "execution_count": null,
   "metadata": {},
   "outputs": [],
   "source": []
  },
  {
   "cell_type": "code",
   "execution_count": null,
   "metadata": {},
   "outputs": [],
   "source": []
  },
  {
   "cell_type": "code",
   "execution_count": null,
   "metadata": {},
   "outputs": [],
   "source": []
  },
  {
   "cell_type": "code",
   "execution_count": null,
   "metadata": {},
   "outputs": [],
   "source": []
  }
 ],
 "metadata": {
  "kernelspec": {
   "display_name": "Python 3",
   "language": "python",
   "name": "python3"
  },
  "language_info": {
   "codemirror_mode": {
    "name": "ipython",
    "version": 3
   },
   "file_extension": ".py",
   "mimetype": "text/x-python",
   "name": "python",
   "nbconvert_exporter": "python",
   "pygments_lexer": "ipython3",
   "version": "3.7.4"
  }
 },
 "nbformat": 4,
 "nbformat_minor": 2
}
